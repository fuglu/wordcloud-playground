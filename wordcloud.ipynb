{
 "cells": [
  {
   "cell_type": "markdown",
   "metadata": {},
   "source": [
    "# Generate a wordcloud based on sipgate's Yammer messages"
   ]
  },
  {
   "cell_type": "markdown",
   "metadata": {},
   "source": [
    "## First let's import some dependencies"
   ]
  },
  {
   "cell_type": "code",
   "execution_count": null,
   "metadata": {},
   "outputs": [],
   "source": [
    "import pandas as pd\n",
    "import re\n",
    "import string\n",
    "import nltk\n",
    "\n",
    "from wordcloud import WordCloud\n",
    "from nltk.corpus import stopwords\n"
   ]
  },
  {
   "cell_type": "markdown",
   "metadata": {},
   "source": [
    "## Read messages from CSV and store in Pandas dataframe"
   ]
  },
  {
   "cell_type": "code",
   "execution_count": null,
   "metadata": {},
   "outputs": [],
   "source": [
    "df = pd.read_csv(\"data/v2/MessagesClean.csv\", parse_dates=['created_at', 'deleted_at'])\n",
    "df = df.set_index('created_at')\n",
    "df.info()\n",
    "df.head()"
   ]
  },
  {
   "cell_type": "markdown",
   "metadata": {},
   "source": [
    "## Show the first messages "
   ]
  },
  {
   "cell_type": "code",
   "execution_count": null,
   "metadata": {},
   "outputs": [],
   "source": [
    "df.sort_values(by=\"created_at\").head(50)"
   ]
  },
  {
   "cell_type": "markdown",
   "metadata": {},
   "source": [
    "## Show top user"
   ]
  },
  {
   "cell_type": "code",
   "execution_count": null,
   "metadata": {},
   "outputs": [],
   "source": [
    "df.sender_name.value_counts().plot(kind=\"bar\", figsize=(200, 16)).get_figure().savefig(\"yammer-posts-by-user.png\", facecolor=\"white\")"
   ]
  },
  {
   "cell_type": "code",
   "execution_count": null,
   "metadata": {},
   "outputs": [],
   "source": [
    "df.sender_name.value_counts().head(50)"
   ]
  },
  {
   "cell_type": "markdown",
   "metadata": {},
   "source": [
    "## Remove bots"
   ]
  },
  {
   "cell_type": "code",
   "execution_count": null,
   "metadata": {},
   "outputs": [],
   "source": [
    "df = df[(df.sender_name != \"Jenkins\") & (df.sender_name != \"zendesk connect\")  & (df.sender_name != \"Satisfaction and Social Media Reporter\")]\n",
    "df.sender_name.value_counts().head(20)"
   ]
  },
  {
   "cell_type": "code",
   "execution_count": null,
   "metadata": {},
   "outputs": [],
   "source": [
    "df.sender_name.value_counts().plot(kind=\"bar\", figsize=(200, 16))"
   ]
  },
  {
   "cell_type": "markdown",
   "metadata": {},
   "source": [
    "## Remove certain channels"
   ]
  },
  {
   "cell_type": "code",
   "execution_count": null,
   "metadata": {},
   "outputs": [],
   "source": [
    "df.group_name.value_counts().plot(kind=\"bar\", figsize=(200, 16)).get_figure().savefig(\"yammer-posts-by-channel.png\", facecolor=\"white\")"
   ]
  },
  {
   "cell_type": "code",
   "execution_count": null,
   "metadata": {},
   "outputs": [],
   "source": [
    "df.group_name.value_counts().head(50)"
   ]
  },
  {
   "cell_type": "code",
   "execution_count": null,
   "metadata": {},
   "outputs": [],
   "source": [
    "df = df[(df.group_name != \"Syslog\")]\n",
    "df.group_name.value_counts().head(50)"
   ]
  },
  {
   "cell_type": "markdown",
   "metadata": {},
   "source": [
    "## Print dataframe to get an overview"
   ]
  },
  {
   "cell_type": "code",
   "execution_count": null,
   "metadata": {},
   "outputs": [],
   "source": [
    "df[\"body\"]"
   ]
  },
  {
   "cell_type": "code",
   "execution_count": null,
   "metadata": {},
   "outputs": [],
   "source": []
  },
  {
   "cell_type": "markdown",
   "metadata": {},
   "source": [
    "## Generate one large message string\n",
    "\n",
    "Note: We do not use Pandas to_string() here because it truncates the text."
   ]
  },
  {
   "cell_type": "code",
   "execution_count": null,
   "metadata": {},
   "outputs": [],
   "source": [
    "messages = \" \".join([row for row in df.body.dropna()])\n",
    "messages[:4000]"
   ]
  },
  {
   "cell_type": "markdown",
   "metadata": {},
   "source": [
    "## Clean"
   ]
  },
  {
   "cell_type": "code",
   "execution_count": null,
   "metadata": {},
   "outputs": [],
   "source": [
    "#messages_clean = messages.lower()\n",
    "messages_clean = re.sub(r'\\b[a-zöüäß]+\\s*', \"\", messages)\n",
    "\n",
    "# Remove newlines\n",
    "messages_clean = re.sub('\\n', ' ', messages_clean)\n",
    "messages_clean = re.sub('\\\\n', ' ', messages_clean)\n",
    "messages_clean = re.sub('\\\\\\\\n', ' ', messages_clean)\n",
    "# Remove mentions ([[user:1234567]])\n",
    "messages_clean = re.sub('\\[.*?\\]', '', messages_clean)\n",
    "# Remove urls\n",
    "messages_clean = re.sub('http\\S+', '', messages_clean)\n",
    "messages_clean = re.sub('\\S*?\\.sipgate\\.net', '', messages_clean)\n",
    "# Remove punctuation\n",
    "messages_clean = re.sub('[%s]' % re.escape(string.punctuation), ' ', messages_clean)\n",
    "messages_clean = re.sub('[€\"“„]', ' ', messages_clean)\n",
    "# Remove some special stuff\n",
    "messages_clean = messages_clean.replace(u'\\xa0', u' ')\n",
    "messages_clean = messages_clean.replace(u'\\xad', u' ')\n",
    "messages_clean = messages_clean.replace(u'\\u200d', u' ')\n",
    "# Remove numbers\n",
    "messages_clean = re.sub('\\w*\\d\\w*', '', messages_clean)\n",
    "\n",
    "# Remove single letter words\n",
    "messages_clean = re.sub(r'(?:^| )\\w(?:$| )', ' ', messages_clean)\n",
    "messages_clean[:2000]"
   ]
  },
  {
   "cell_type": "markdown",
   "metadata": {},
   "source": [
    "## Download nltk stopword data"
   ]
  },
  {
   "cell_type": "code",
   "execution_count": null,
   "metadata": {},
   "outputs": [],
   "source": [
    "nltk.download('stopwords')\n",
    "german_stop_words = stopwords.words('german')\n"
   ]
  },
  {
   "cell_type": "markdown",
   "metadata": {},
   "source": [
    "## Generate wordcloud"
   ]
  },
  {
   "cell_type": "code",
   "execution_count": null,
   "metadata": {},
   "outputs": [],
   "source": [
    "# mask=sipgate_mask,\n",
    "\n",
    "wc = WordCloud(background_color=\"white\", max_words=2000, width=800, height=400,\n",
    "               stopwords=german_stop_words, contour_width=3, contour_color='steelblue')\n",
    "wordcloud = wc.generate(messages_clean)\n",
    "wordcloud.to_file(\"sipgate-nouns.png\")\n",
    "wordcloud.to_image()\n",
    "\n"
   ]
  },
  {
   "cell_type": "code",
   "execution_count": null,
   "metadata": {},
   "outputs": [],
   "source": []
  }
 ],
 "metadata": {
  "kernelspec": {
   "display_name": "Python 3.9.2 64-bit ('wordcloud-playground-H3SLfRvp': pipenv)",
   "name": "python392jvsc74a57bd0a2e4421ec5e8a5ec127241d2c653c73523a4b3fd5083a7efffe8b30231ac7e38"
  },
  "language_info": {
   "codemirror_mode": {
    "name": "ipython",
    "version": 3
   },
   "file_extension": ".py",
   "mimetype": "text/x-python",
   "name": "python",
   "nbconvert_exporter": "python",
   "pygments_lexer": "ipython3",
   "version": "3.9.2"
  },
  "metadata": {
   "interpreter": {
    "hash": "a2e4421ec5e8a5ec127241d2c653c73523a4b3fd5083a7efffe8b30231ac7e38"
   }
  }
 },
 "nbformat": 4,
 "nbformat_minor": 2
}
